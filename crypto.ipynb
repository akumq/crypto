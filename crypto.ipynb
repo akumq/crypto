{
 "cells": [
  {
   "cell_type": "markdown",
   "id": "fd6575b5",
   "metadata": {},
   "source": [
    "# TP noté sur la cryptographie"
   ]
  },
  {
   "cell_type": "markdown",
   "id": "f96f8aca",
   "metadata": {},
   "source": [
    "**A rendre** Une version pdf ou html de ce document complété devra être déposé sur Arche"
   ]
  },
  {
   "cell_type": "markdown",
   "id": "71a4b0b8",
   "metadata": {},
   "source": [
    "--- "
   ]
  },
  {
   "cell_type": "markdown",
   "id": "9aa6d5c3",
   "metadata": {},
   "source": [
    "## Utilisation de Jupyter Notebook\n",
    "\n",
    "Le principe est simple : \n",
    " - Chaque notebook est constitué d’une liste de **cellules**\n",
    " - Chacune peut contenir du **texte formaté** ou du **code** (Python, dans notre cas)\n",
    " - On **exécute** une cellule de code -> le résultat s’affiche sous la cellule\n",
    "\n",
    "Cliquez sur le menu **Help** > **User Interface Tour** pour un tour rapide de l’interface.    \n",
    "\n",
    "Pour vous entraîner :\n",
    "- **Insérez** quelques cellules de code au début du notebook\n",
    "- Exécutez quelques commandes Python, telles que **print(\"Hello world!\")** :\n",
    "    - Cliquez dans une cellule de code et saisissez le code à exécuter\n",
    "    - Exécutez le code de la cellule en tapant Shift-Entrée ou en cliquant sur le bouton d’exécution\n",
    "    \n",
    "Lorsque vous **cliquez** à l’intérieur d’une cellule, vous passez en mode **édition** (la cellule est alors encadrée en *vert*). Lorsque vous tapez la **touche Echap** (Esc) ou que vous cliquez juste à gauche de la cellule, vous passez en mode **commande** (la cellule est alors encadrée en *bleu*). \n",
    "\n",
    "Lorsque vous êtes en **mode commande**, tapez la **touche H** pour afficher les nombreux **raccourcis clavier** disponibles"
   ]
  },
  {
   "cell_type": "markdown",
   "id": "e33c6295",
   "metadata": {},
   "source": [
    "--- "
   ]
  },
  {
   "cell_type": "markdown",
   "id": "2eee728d",
   "metadata": {},
   "source": [
    "## Partie 1 - Cryptographie et Chiffrement avec Gnu Privacy Guard (GnuPG)\n",
    "\n",
    "**GnuPG** est un outil qui permet de chiffrer, déchiffrer et signer des messages en utilisant les algorithmes de chiffrements symétriques ou asymétriques.\n",
    "\n",
    "Assurez vous que **GnuPG** soit bien installé sur votre système. Vous pouvez vérifier cela en tapant dans un terminal :\n",
    "\n",
    "```\n",
    "gpg --version\n",
    "```\n",
    "\n",
    "Un certain nombre d'algorithmes de chiffrement et de hashage sont pris en charge par **GnuPG**. Cette commande permet aussi de voir lesquelles sont supportés par votre version.\n",
    "\n",
    "Il est très important d'avoir le réflexe de consulter le manuel avec la commande suivante :\n",
    "\n",
    "```\n",
    "man gpg\n",
    "```\n",
    "\n",
    "Comme pour la plupart des logiciels sous GNU/Linux, la commande man suivi du nom de la commande permet d'avoir beaucoup d'information. Pour fouiller rapidement une page de manuel à la recherche d'un mot clé particulier (par exemple `--sign`) tapez le caractère `/` suivi du texte à chercher puis appuyez sur entrée. Des appuis successifs sur la touche `n` (comme next) permet de sauter d'une occurrence à une autre.\n",
    "\n",
    "Durant ce TP, nous aurons besoin d'envoyer et de recevoir un certain nombre de message entre machines. Pour cela, nous utiliserons l'outil netcat qui permet de faire cela très simplement."
   ]
  },
  {
   "cell_type": "markdown",
   "id": "55c890ee",
   "metadata": {},
   "source": [
    "## Exercice 1.a\n",
    "\n",
    "Essayez d'envoyer un message à un camarade :\n",
    "- échangez vous vos adresses IP\n",
    "- utilisez netcat pour écouter sur le port TCP 9999 (pour recevoir des messages)\n",
    "- utilisez netcat pour vous connecter à un autre machine de la salle et envoyer un message\n",
    "\n",
    "Répétez l'opération mais en échangeant cette fois des fichiers !"
   ]
  },
  {
   "attachments": {},
   "cell_type": "markdown",
   "id": "00bf38de",
   "metadata": {},
   "source": [
    "__Question 1__ : \n",
    "\n",
    "<img src=\"img/listener.png\" />\n",
    "<img src=\"img/senderr.png\" />"
   ]
  },
  {
   "cell_type": "markdown",
   "id": "95a9293d",
   "metadata": {},
   "source": [
    "__Réponse__ :\n",
    "\n",
    "![](chemin/monImage.png)"
   ]
  },
  {
   "cell_type": "markdown",
   "id": "032cf658",
   "metadata": {},
   "source": [
    "__Question 2__ : \n",
    "\n",
    "Serait il possible pour un attaquant de voir les données transmises ? Comment ?"
   ]
  },
  {
   "attachments": {},
   "cell_type": "markdown",
   "id": "a639f7b6",
   "metadata": {},
   "source": [
    "__Réponse__ :\n",
    "\n",
    "Oui c'est possible on utilise un type d'attaque appellé courament \"Man in the middle\" qui ce base sur le fait que lorsqu'il y a une attaque ce placer entre le listener et l'envoyeur pour obtenir toutes les transmission. Pour réussir cette attaque il y a plusieurs moyen de le faire le plus simple serait de ce connecter sur le même réseaux que le client pour recevoir les transmissions en même temps que le listener.\n"
   ]
  },
  {
   "cell_type": "markdown",
   "id": "e33c6295",
   "metadata": {},
   "source": [
    "--- "
   ]
  },
  {
   "cell_type": "markdown",
   "id": "6fe3741b",
   "metadata": {},
   "source": [
    "## Partie 2 - Chiffrement Symétrique"
   ]
  },
  {
   "cell_type": "markdown",
   "id": "9028d3f9",
   "metadata": {},
   "source": [
    "### Du texte clair au texte chiffré"
   ]
  },
  {
   "cell_type": "markdown",
   "id": "4d3e9125",
   "metadata": {},
   "source": [
    "Nous allons chiffrer un message avec un algorithme de chiffrement symétrique. Écrivez quelque chose dans un fichier et enregistrez le. Nous appellerons ce fichier `fichier.txt-.\n",
    "\n",
    "Pour chiffrer un fichier avec un algorithme à clé symétrique nous avons besoin de décider deux choses :\n",
    "- d'un mot de passe à partir duquel sera généré la clé symétrique\n",
    "- d'un algorithme de chiffrement (exemple : AES256)\n",
    "\n",
    "La commande suivante permet de chiffrer le fichier :\n",
    "```\n",
    "gpg --symmetric fichier.txt\n",
    "```\n",
    "\n",
    "Le fichier chiffré est enregistré sous le nom de fichier.txt.gpg. On peut choisir le nom du fichier chiffré avec le paramètre `--output`.\n",
    "\n",
    "Si aucun fichier d'entrée n'est donné en paramètre, gpg va chiffrer ce qui arrive sur l'entrée standard. On peut donc arriver au même résultat avec la commande suivante :\n",
    "\n",
    "```\n",
    "cat fichier.txt | gpg --symmetric --output fichier.encrypted\n",
    "```\n",
    "\n",
    "`cat` est une commande qui affiche sur la sortie standard le contenu d'un fichier, « `|` » (qu'on appelle pipe) permet de connecter la sortie standard sur une entrée standard). On peut directement écrire notre message en ligne de commande sans l'enregistrer préalablement dans un fichier :\n",
    "```\n",
    "echo \"petit message\" | gpg --symmetric --output fichier.encrypted\n",
    "```"
   ]
  },
  {
   "cell_type": "markdown",
   "id": "8a7197f7",
   "metadata": {},
   "source": [
    "__Question 1 :__\n",
    "    \n",
    "Quel algorithme de chiffrement est utilisé par défaut ?"
   ]
  },
  {
   "attachments": {},
   "cell_type": "markdown",
   "id": "3965714b",
   "metadata": {},
   "source": [
    "__Réponse :__\n",
    "    \n",
    "Le chiffrmenet de deffaux utiliser par GPG et un ciffrement RSA"
   ]
  },
  {
   "attachments": {},
   "cell_type": "markdown",
   "id": "f7c169e4",
   "metadata": {},
   "source": [
    "Il est possible de choisir son propre algorithme avec le paramètre `--cipher-algo`. Rechiffrez votre message avec un algorithme de votre choix.\n",
    "\n",
    "GnuPG peut également adapter sa sortie de sorte que le message chiffré soit une suite de caractère ASCII (on appelle cela le base64) facilement copiable. Pour cela, il suffit d'ajouter le paramètre `-- armo` de la façon suivante :\n",
    "\n",
    "```\n",
    "echo \"ceci est un message secret\" | gpg --symmetric --cipher-algo AES256\n",
    "--armor\n",
    "```\n",
    "\n",
    "donne : \n",
    "\n",
    "jA0ECQMCioA9Lu0VzJr/0lAByLf+AqIMTuqHylMuCGM2YaeeIk5xNsctIRUsLBt4\n",
    "C+mAdC5if0DZFGjYQ0nliMmb6imObiivSdguLNZF4z82fxqlswRA8hm4PpnG2nz8\n",
    "ww==\n",
    "=83s6\n",
    "\n",
    "```\n",
    "-----END PGP MESSAGE-----\n",
    "```\n",
    "Ce message peut être facilement copié dans un mail, un forum ou même un chat.\n"
   ]
  },
  {
   "cell_type": "markdown",
   "id": "c645c82a",
   "metadata": {},
   "source": [
    "### Du texte chiffré au texte clair"
   ]
  },
  {
   "cell_type": "markdown",
   "id": "fe0154cd",
   "metadata": {},
   "source": [
    "Pour déchiffrer un message chiffré, il suffit d'utiliser le paramètre--decrypt (ou -d) qui vient remplacer --symmetric (ou -c). Exemple avec un fichier chiffré nommé secret.txt :"
   ]
  },
  {
   "cell_type": "markdown",
   "id": "96799737",
   "metadata": {},
   "source": [
    "__Question 2 :__\n",
    "\n",
    "Pourquoi n'avons nous pas besoin de préciser l'algorithme de chiffrement utilisé ?"
   ]
  },
  {
   "attachments": {},
   "cell_type": "markdown",
   "id": "e8e864ba",
   "metadata": {},
   "source": [
    "__Réponse :__\n",
    "    \n",
    "il est possible que lors de l'encryption GPG encode le type d'encryption dans le message affins que lorsque l'on le decrypt il utilise forcément la bonne méthode"
   ]
  },
  {
   "cell_type": "markdown",
   "id": "3b905079",
   "metadata": {},
   "source": [
    "Chiffrez deux messages différents avec deux clés différentes mais avec le même algorithme de chiffrement et avec le mode armor, comparez les deux textes chiffrés.\n"
   ]
  },
  {
   "cell_type": "markdown",
   "id": "eb2bef66",
   "metadata": {},
   "source": [
    "__Question 3 :__\n",
    "\n",
    "Est ce que cela confirme ce que vous pensiez à la question 2 ?"
   ]
  },
  {
   "attachments": {},
   "cell_type": "markdown",
   "id": "995a144d",
   "metadata": {},
   "source": [
    "__Réponse :__\n",
    "    \n",
    "test chiffrement avec cle \"ratio\" : jA0ECQMCIpZtPKxVga7/0lABz5pA17uo+V+X3mGyU8Ku1QZDdUBIfFrfWxLHN1Ol\n",
    "DkdkX+exaOhdokkiR/Tg4qLjJ3BHGuiPZo5vkjODLMb3hRBoUAk4to1Ms6jtf3xF\n",
    "ew==\n",
    "=ATiH\n",
    "\n",
    "test chiffremet avec cle \"intelij\" :jA0ECQMCz0LZmbFQd5b/0lABSo4AOtX8i1o+rf2l1VcNIzLMSBDzR6a+y09oD6Bo\n",
    "sAAVFU2bxbghRjfRVFzERbbo6VO8GOB4V7WH9GD8Eln61LaTMA/gCDcTHYycVvjM\n",
    "Jg==\n",
    "=S7Hq\n",
    "\n",
    "oui parseque l'on retrouve bien le type de crptage dans le debut dela phrase chripter."
   ]
  },
  {
   "cell_type": "markdown",
   "id": "5b9b0363",
   "metadata": {},
   "source": [
    "Envoyez un message chiffré à un autre groupe de la salle et arrangez vous pour lui faire parvenir le mot de passe. ATTENTION ! N'utilisez pas netcat pour partager le secret ! Et gare aux oreilles !\n",
    "\n",
    "- Déchiffrez les messages que vous avez reçus"
   ]
  },
  {
   "cell_type": "markdown",
   "id": "1832fa4f",
   "metadata": {},
   "source": [
    "__Question 4 :__\n",
    "\n",
    "Quelle méthode avez vous choisie pour échanger la clé de chiffrement ?"
   ]
  },
  {
   "attachments": {},
   "cell_type": "markdown",
   "id": "2d18cf3a",
   "metadata": {},
   "source": [
    "__Réponse :__\n",
    "on a choisiser de se l'erchanger a voie haute car le mot de pase nes pas si compliquer."
   ]
  },
  {
   "cell_type": "markdown",
   "id": "8472583f",
   "metadata": {},
   "source": [
    "```\n",
    "gpg --decrypt secret.txt\n",
    "```\n",
    "\n",
    "*gpg*: données chiffrées avec AES256\n",
    "*gpg*: chiffré avec 1 phrase de passe\n",
    "*ceci est un message secret*"
   ]
  },
  {
   "cell_type": "markdown",
   "id": "2335c72a",
   "metadata": {},
   "source": [
    " __Question 5 :__\n",
    "        \n",
    "Pourquoi ne faut il pas envoyer le secret à travers le même canal de communication que\n",
    " les données chiffrées ?"
   ]
  },
  {
   "attachments": {},
   "cell_type": "markdown",
   "id": "93b4a8f8",
   "metadata": {},
   "source": [
    "__Réponse :__\n",
    "    \n",
    "car si canal est inteercepter la personne peux le recupere la phrase chiifre et la clé de dechiffremenet est donc decoder le message chiffre."
   ]
  },
  {
   "cell_type": "markdown",
   "id": "e33c6295",
   "metadata": {},
   "source": [
    "--- "
   ]
  },
  {
   "cell_type": "markdown",
   "id": "6fe3741b",
   "metadata": {},
   "source": [
    "## Partie 3 - Chiffrement Asymétrique"
   ]
  },
  {
   "cell_type": "markdown",
   "id": "a2ecd1df",
   "metadata": {},
   "source": [
    "### Questions préliminaires"
   ]
  },
  {
   "cell_type": "markdown",
   "id": "905d8942",
   "metadata": {},
   "source": [
    "__Question 6 :__\n",
    "\n",
    "Quel est l'avantage du chiffrement à clé publique (asymétrique) par rapport au chiffrement à secret partagé (symétrique) ?"
   ]
  },
  {
   "attachments": {},
   "cell_type": "markdown",
   "id": "f80ed39f",
   "metadata": {},
   "source": [
    "__Réponse :__\n",
    "    le chiffrement avec un couple clé publique/privé permet de prévenir l'attaque du \"man in the middle\". "
   ]
  },
  {
   "cell_type": "markdown",
   "id": "b2f3ed1b",
   "metadata": {},
   "source": [
    "__Question 7 :__\n",
    "\n",
    "Quel est son inconvénient ?"
   ]
  },
  {
   "attachments": {},
   "cell_type": "markdown",
   "id": "584573c0",
   "metadata": {},
   "source": [
    "__Réponse :__\n",
    "\n",
    "pour que la transmission du message ce fasse il faut necessairement que le \"sender\" obtienne la clé publique du \"listener\""
   ]
  },
  {
   "cell_type": "markdown",
   "id": "a65b8b76",
   "metadata": {},
   "source": [
    "### Création des paires de clés"
   ]
  },
  {
   "cell_type": "markdown",
   "id": "2819c3a7",
   "metadata": {},
   "source": [
    "Pour chiffrer des messages avec un algorithme à clé publique (chiffrement asymétrique) il faut d'abord posséder une paire de clé publique/clé privée qui est propre à chaque individu (rien n'empêche d'en avoir plusieurs évidemment). Pour cela on utilise la commande intéractive `gpg --gen-key` qui va construire une identité et la paire de clé correspondante.\n",
    "\n",
    "```\n",
    "gpg --gen-key\n",
    "```\n",
    "\n",
    "`\n",
    "Répondez aux questions de la façon suivante : \n",
    "- Types de clé : RSA et RSA (par défaut) \n",
    "- Taille de la clé : 2048\n",
    "- Nom Réel : votre nom et prénom\n",
    "- Adresse email :\n",
    "\n",
    "Un mot de passe vous sera demandé pour générer la paire de clé publique/privée. Choisissez un mot de passe robuste que vous utiliserez durant tout le TP.\n",
    "\n",
    "Validez, la paire de clé va être générée et cela peut prendre un peu de temps. Vous pouvez accélérer cette étape en lançant une commande qui va augmenter l'entropie du système comme par exemple :\n",
    "\n",
    "```\n",
    "find /\n",
    "```\n",
    "\n",
    "Une fois l'étape terminé vous devriez voir quelque chose comme ceci :\n",
    "\n",
    "\n",
    "\n",
    "\n",
    "\n",
    "\n",
    "\n",
    "\n",
    "\n",
    "\n",
    "\n",
    "\n",
    "\n",
    "\n",
    "\n",
    "\n",
    "\n",
    "\n",
    "\n",
    "\n",
    "Vous pouvez lister et éditer les clés présente avec les paramètre `--list-key`` `\n",
    "\n",
    "```\n",
    "gpg --list-key\n",
    "```\n",
    "\n",
    "On peut également éditer (modifier) sa clé avec le paramètre `--edit-ke` :\n",
    "\n",
    "```\n",
    "gpg --edit-key un_nom\n",
    "```\n",
    "\n",
    "Sachant que : utilisation: `S` pour *Signature*, `E` pour *Encryption*, `A` pour *Authentification*\n",
    "\n",
    "sec &rArr; 'SECret key'\n",
    "\n",
    "ssb &rArr; 'Secret SuBkey' \n",
    "\n",
    "pub &rArr; 'PUBlic key' \n",
    "\n",
    "sub &rArr; 'public SUBkey'\n"
   ]
  },
  {
   "cell_type": "markdown",
   "id": "42489f9b",
   "metadata": {},
   "source": [
    "__Question 8 :__\n",
    "    \n",
    "Quel est l'ID de votre clé ?"
   ]
  },
  {
   "attachments": {},
   "cell_type": "markdown",
   "id": "ba7a526a",
   "metadata": {},
   "source": [
    "__Réponse :__\n",
    "\n",
    "clé publique:  0932960A8D54D51CFD2400AE572BC7ECEC3F7726\n",
    "\n",
    "l'id: sow76u <amadou-sow5@etu.univ-lorraine.fr>\n"
   ]
  },
  {
   "cell_type": "markdown",
   "id": "af9d9633",
   "metadata": {},
   "source": [
    "Si vous perdez votre clé, ou votre mot de passe, ou que l'on vous vole votre ordinateur personnel, il est primordial de prévenir vos contacts de ne plus utiliser votre clé publique. Cela se fait au travers d'un certificat de révocation que l'on crée de la manière suivante :\n",
    "\n",
    "```\n",
    "gpg --output revoke.txt --gen-revoke <UID>\n",
    "```"
   ]
  },
  {
   "cell_type": "markdown",
   "id": "18fc599b",
   "metadata": {},
   "source": [
    "__Question 9 :__\n",
    "\n",
    "Générez un certificat de révocation pour votre clé. Comment et où le stockez vous ?"
   ]
  },
  {
   "attachments": {},
   "cell_type": "markdown",
   "id": "16faf7ec",
   "metadata": {},
   "source": [
    "__Réponse :__\n",
    "    \n",
    "Certificats de révocations :\n",
    "\n",
    "iQG2BCABCgAgFiEECTKWCo1U1Rz9JACuVyvH7Ow/dyYFAmPGsigCHQAACgkQVyvH\n",
    "7Ow/dybC7QwAqfzjX2COEsgGAi45fWAUe161E/LI7+bOcJLu0CSnR/4sCIwOdDjb\n",
    "ywdURZ7eiVqMnKKO1nAg+VYEhncqARV6G0817IGTq08pvd7mD524zKUC9QXlCHpO\n",
    "ZK/AcAZEiDP/WSqq+pPh+uBpNvFDkrskZdoUbClAQrZveCwAHyl84BE888opAeVT\n",
    "J0V5Aq5Qd+LHvbJatL6TMwEZnuKuo8oosigxRn9bEWCaFs4jozHZ4nbh4YqbSzhl\n",
    "f1hZqjaA44PB8GE4v8nrbaoIhMd8TFW76DrIRJ1P/Bbnt2AbiQu3lb+BCJ3vTX2A\n",
    "m5lZV9CdorPIebiubI1GgWES1QChYjYVzaPSMnqtS+I8pgkBcKajLH3QBzM09Qes\n",
    "1SDPoJOKw0bVxhIHaFszco6MMRYbeiW5vYwxmKoXCZ2JLSpwh4OlhamVGW6EGa11\n",
    "MJVOCmwh2jfgsY0pWkQDfKO/PsX8qYZPrSI0pMMvCeE7kPcsVXgvNYLo/azpzIJL\n",
    "NWCXYiGWcjEy\n",
    "=nuWP\n",
    "\n",
    "On peut le stocker dans un fichier txt, mais il est conseiller de le stocker ailleurs comme l'imprimer par exemple"
   ]
  },
  {
   "cell_type": "markdown",
   "id": "2a75e4df",
   "metadata": {},
   "source": [
    "Afin de révoquez une clé, il faut importer le certificat de révocation avec le paramètre `--import` (ne tapez pas cette commande sinon vous révoqueriez votre clé) :\n",
    "\n",
    "```\n",
    "gpg --import revoke.txt\n",
    "```"
   ]
  },
  {
   "cell_type": "markdown",
   "id": "9f978acd",
   "metadata": {},
   "source": [
    "### Exporter et Importer une clé publique"
   ]
  },
  {
   "attachments": {},
   "cell_type": "markdown",
   "id": "f7394181",
   "metadata": {},
   "source": [
    "Pour pouvoir chiffrer un message, il faut se procurer la clé publique du destinataire du message. Inversement, pour recevoir un message chiffré il faut que l'expéditeur se soit procuré votre clé publique. Pour cela on peut utiliser gpg avec le paramètre –export pour obtenir sa clé publique. Afin de pouvoir facilement partager cette clé publique, vous pouvez également ajouter l'option `--armor` (ou `-a`) de la façon suivante :\n",
    "\n",
    "```\n",
    "gpg -a --export votre_adresse_mel\n",
    "```\n",
    "\n",
    "De la même façon, vous pouvez importer une clé publique, c'est à dire l'ajouter à votre trousseau, avec le paramètre --import suivi du nom du fichier contenant la clé publique.\n",
    "\n",
    "<img src=\"img/ClePublique.png\" />"
   ]
  },
  {
   "cell_type": "markdown",
   "id": "d36840e1",
   "metadata": {},
   "source": [
    "__Question 10 :__\n",
    "\n",
    "Quelle mesure doit on absolument prendre avant d'importer une clé publique ?"
   ]
  },
  {
   "attachments": {},
   "cell_type": "markdown",
   "id": "2b1b8a98",
   "metadata": {},
   "source": [
    "__Réponse :__\n",
    "    \n",
    "Il est important de vérifié l'authentiticité d'une clé RSA avant sont utilisation, ça permet de découvrir si la clé est encore fonctionnelle est pas révoqué."
   ]
  },
  {
   "attachments": {},
   "cell_type": "markdown",
   "id": "02e659fd",
   "metadata": {},
   "source": [
    "Vous pouvez obtenir le fingerprint d'une de vos clé publiques ou d'une clé publique déjà importée de la façon suivante :\n",
    "\n",
    "```\n",
    "gpg --fingerprint une_adresse_mel\n",
    "```\n",
    "\n",
    "Les clés peuvent être distribuées directement via des annuaires. Cela permet de simplifier le processus d'exportation et d'importation. Il existe plusieurs sites permettant de stocker les clés publiques comme (keys.openpgp.org)[keys.openpgp.org]\n",
    "\n",
    "Généralement ces sites synchronisent régulièrement leurs bases de données.\n",
    "\n",
    "Vous pouvez rechercher des clés sur un annuaire de la façon suivante :\n",
    "\n",
    "```\n",
    "gpg --keyserver hkps://keys.openpgp.org –search abourjij@gmail.com\n",
    "```\n",
    "\n",
    "Vous pouvez rechercher des clés sur ces annuaires de la façon suivante :\n",
    "\n",
    "```\n",
    "gpg --keyserver pgp.mit.edu --refresh-keys\n",
    "```\n",
    "\n",
    "À l'avenir, vous pourrez publier votre clé publique sur un annuaire. Ne le faites pas lors des exercices et si vous n'êtes pas au courant des risques! Mais si vous voulez le faire, faites le avec la commande suivante :\n",
    "\n",
    "```\n",
    "gpg --keyserve hkps://keys.openpgp.org –send-key une_clef\n",
    "```"
   ]
  },
  {
   "cell_type": "markdown",
   "id": "0f720c81",
   "metadata": {},
   "source": [
    "__Question 11 :__\n",
    "\n",
    "Quel(s) avantage(s) voyez vous à l'utilisation d'annuaires ?"
   ]
  },
  {
   "attachments": {},
   "cell_type": "markdown",
   "id": "a0810fc2",
   "metadata": {},
   "source": [
    "__Réponse :__\n",
    "    \n",
    "ça permet a tout moment d'acceder à la clé publique de n'importe qui sans forcément qu'il nous la fournisse lui même."
   ]
  },
  {
   "cell_type": "markdown",
   "id": "495083e5",
   "metadata": {},
   "source": [
    "__Question 12 :__\n",
    "\n",
    "Quel(s) inconvénient(s) voyez vous à l'utilisation d'annuaires ?"
   ]
  },
  {
   "attachments": {},
   "cell_type": "markdown",
   "id": "feea5a9f",
   "metadata": {},
   "source": [
    "__Réponse :__\n",
    "    \n",
    "N'importe qui peut obtenir votre clé publique même les individue mal intentionné, également ça laisse des traces de notre identité sur internet si on ne fait pas attention."
   ]
  },
  {
   "cell_type": "markdown",
   "id": "c42f5efa",
   "metadata": {},
   "source": [
    "### Chiffrer un message"
   ]
  },
  {
   "cell_type": "markdown",
   "id": "96e6a1ab",
   "metadata": {},
   "source": [
    "Lorsque vous possédez la clé publique d'un destinataire, vous pouvez chiffrer un message avec le paramètre `--encrypt` (ou `-e`). Comme pour le chiffrement symétrique, vous pouvez également ajouter les paramètres `--armor` et/ou `--output`\n",
    "\n",
    "```\n",
    " echo message clair | gpg -a --encrypt -r abourjij@gmail.com\n",
    "```"
   ]
  },
  {
   "cell_type": "markdown",
   "id": "f3304c76",
   "metadata": {},
   "source": [
    "__Question 13:__\n",
    "\n",
    "à quoi sert le paramètre `-r` ?"
   ]
  },
  {
   "attachments": {},
   "cell_type": "markdown",
   "id": "e995c83b",
   "metadata": {},
   "source": [
    "__Réponse :__\n",
    "    \n",
    "le -r sert a chiffre l'identiter ici le abourjij@gmail.com\n"
   ]
  },
  {
   "cell_type": "markdown",
   "id": "e6e6b244",
   "metadata": {},
   "source": [
    "__Question 14 :__\n",
    "\n",
    "**gpg** ne vous a pas demandé avec quel clé il fallait le déchiffrer, d'après vous pourquoi ?"
   ]
  },
  {
   "attachments": {},
   "cell_type": "markdown",
   "id": "64c19dac",
   "metadata": {},
   "source": [
    "__Réponse :__\n",
    "    \n",
    "gpt affins qu'on évite qu'un individue tierce obtiennent les clé privée et les stock en fonction des clés enregistré sur la machine, gpt fonctionne ainsi affins qu'on évite de rentrer en dure les clé ce qui pourrait permettre a un individue de voler cette clé"
   ]
  },
  {
   "cell_type": "markdown",
   "id": "de44471e",
   "metadata": {},
   "source": [
    "__Question 15 :__\n",
    "\n",
    "Échangez votre clé publique avec un autre groupe de la salle\n",
    "\n",
    "- Envoyez un (ou plusieurs) message(s) chiffrés\n",
    "- Déchiffrez le (ou les) message(s) que vous avez reçus\n"
   ]
  },
  {
   "attachments": {},
   "cell_type": "markdown",
   "id": "32626bcc",
   "metadata": {},
   "source": [
    "__Réponse :__\n",
    "\n",
    "<img src=\"img/import_Key2.png\" />\n",
    "<img src=\"img/import_Key.png\" />\n",
    "<img src=\"img/decrypt.png\" />\n",
    "\n"
   ]
  },
  {
   "cell_type": "markdown",
   "id": "acd1dc67",
   "metadata": {},
   "source": [
    " __Question 16 :__ Contrairement au chiffrement symmétrique, pourquoi n'y a-t-il cette fois aucun risque à envoyer votre clé publique par un canal de communication non sécurisé ?"
   ]
  },
  {
   "attachments": {},
   "cell_type": "markdown",
   "id": "a3d40b89",
   "metadata": {},
   "source": [
    "__Réponse :__\n",
    "    \n",
    "Il n'y aucun risque a partagé sa clé privée étend donnée qu'il est impossible avec cette dernière de decrypter le message ce qui rend impossible a un individue tierce d'espionner les différents messages"
   ]
  },
  {
   "cell_type": "markdown",
   "id": "e33c6295",
   "metadata": {},
   "source": [
    "--- "
   ]
  },
  {
   "cell_type": "markdown",
   "id": "6fe3741b",
   "metadata": {},
   "source": [
    "## Partie 4 - Stockage des mots de passes"
   ]
  },
  {
   "cell_type": "markdown",
   "id": "d58afdd2",
   "metadata": {},
   "source": [
    "### 1. Fonction de hashage"
   ]
  },
  {
   "cell_type": "markdown",
   "id": "06d7b2a0",
   "metadata": {},
   "source": [
    "\n",
    "Vos mots de passe pour vous connecter à votre compte univ-lorraine ou tout autre service necessitant une authentification ne sont normalement pas stockés directement dans un fichier. Le risque de fuite serait trop important...\n",
    "\n",
    "Normalement, seul un hash de votre mot de passe est enregistré sur un ordinateur : un **hash** est une suite de caractères de taille fixe associée à une chaîne quelconque. Par exemple, le hash (pour l'algorithme **sha1**) de la chaîne *«vive la crypto !»* :\n",
    "\n",
    "```\n",
    "echo vive la crypto ! | shasum\n",
    "```\n",
    "\n",
    "donne :\n",
    "\n",
    "```\n",
    "f1b3fcc80d96d16630f2ae0fc35c529a27d91540  -\n",
    "```\n",
    "\n",
    "Maintenant pour la chaîne *«**V**ive la crypto !»* (seule la première lettre a changé) :\n",
    "\n",
    "```\n",
    "echo Vive la crypto ! | shasum\n",
    "```\n",
    "\n",
    "donne :\n",
    "\n",
    "```\n",
    "573ecf065e1db92008f6de6081d7d88dd32ba001  -\n",
    "```\n",
    "\n",
    "Les fonctions de hash utilisées en cryptographie sont toujours faciles (rapide) à calculer, mais elles doivent vérifier les propriétés suivantes :\n",
    "\n",
    "- il est très difficile de trouver une chaîne ayant un hash donné,\n",
    "- il est très difficile de modifier une chaîne sans modifier son hash,\n",
    "- il est très difficile de trouver deux chaînes avec le même hash.\n",
    "\n",
    "Les algorithmes de hashage les plus connus sont :\n",
    "\n",
    "- md5 (mais cet algorithme n'est plus sûr)\n",
    "- sha1,\n",
    "- sha256 / sha512\n",
    "\n",
    "Pour vous authentifier sur un site, vous tapez votre mot de passe, et le programme vérifie que son hash est bien identique au hash stocké sur le serveur...\n"
   ]
  },
  {
   "cell_type": "markdown",
   "id": "7763535c",
   "metadata": {},
   "source": [
    "__Question 1__ :\n",
    "\n",
    "Expliquez pourquoi il n'est pas possible, même pour l'administrateur du serveur, de retrouver votre mot de passe en cas de perte..."
   ]
  },
  {
   "attachments": {},
   "cell_type": "markdown",
   "id": "48f38612",
   "metadata": {},
   "source": [
    "__Réponse__ :\n",
    "\n",
    "il nes pas possible meme pour l'admistrateur reseaux ne peux re cuperer le mdp car ce derniere est hassher dans la base de donner de plus il ne peux le recurperer pour le \"dehaccher\""
   ]
  },
  {
   "cell_type": "markdown",
   "id": "269eb201",
   "metadata": {},
   "source": [
    "### 2. Attaque par dictionnaire"
   ]
  },
  {
   "cell_type": "markdown",
   "id": "e9cf4c54",
   "metadata": {},
   "source": [
    "Si on possède le hash d'un mot de passe, on peut essayer de retrouver le mot de passe en essayant toutes les possibilités.\n",
    "\n",
    "En général, il est intéressant de commencer par les mots du dictionnaire. Le fichier [`dico.txt`](dico.txt) contient les mots du dictionnaire \"le Littré\" qui ne contiennent pas d'accent. Il contient 47666 mots.\n",
    "\n",
    "Le code Python suivant permet de tester tous les mots de ce fichier et de comparer leur hash avec un hash passé en argument :"
   ]
  },
  {
   "cell_type": "code",
   "execution_count": null,
   "id": "7a319475",
   "metadata": {},
   "outputs": [
    {
     "ename": "",
     "evalue": "",
     "output_type": "error",
     "traceback": [
      "\u001b[1;31mLes cellules en cours d’exécution avec /usr/bin/python3 nécessitent ipykernel package.\n",
      "\u001b[1;31mExécutez la commande suivante pour installer 'ipykernel' dans l’environnement Python. \n",
      "\u001b[1;31mCommande : '/usr/bin/python3 -m pip install ipykernel -U --user --force-reinstall'"
     ]
    }
   ],
   "source": [
    "import hashlib\n",
    "from datetime import datetime\n",
    "\n",
    "def attaque_dico_hash(h, dic):\n",
    "    dico = open(dic, mode=\"r\")\n",
    "    n = 0 # pour compter le nombre de mots\n",
    "    t0 = datetime.now() # l'heure a l'instant prasent\n",
    " \n",
    "    for mot in dico:\n",
    "        mot = mot.strip()\n",
    "        n=n+1\n",
    "\n",
    "        if hashlib.sha256(mot.encode()).hexdigest() == h:\n",
    "            print()\n",
    "            print(\"TROUVE ! Le mot '{}' a le hash {},\".format(mot,h))\n",
    "            print(\"{} mot(s) ont etes testes en {} seconde(s).\".format(n, (datetime.now()- t0).total_seconds()))\n",
    "            dico.close()\n",
    "            return\n",
    "\n",
    "        if n % 1000 == 0:\n",
    "            print(\".\", end=\" \")\n",
    "\n",
    "    print()\n",
    "    print(\"{} mot(s) ont étés testes en {} seconde(s),\".format(n, (datetime.now()-t0).total_seconds()))\n",
    "    print(\"Aucun des mots testes n'avait le hash {}.\".format(h))"
   ]
  },
  {
   "attachments": {},
   "cell_type": "markdown",
   "id": "1f2893d3",
   "metadata": {},
   "source": [
    "__Question 2__ :\n",
    "\n",
    "Utilisez le programme pour retrouver le mot caché derrière ce hash :\n",
    "\n",
    "```\n",
    " 2c6ed1182b4176016ebb10fdc541e61c92c45c8d37e04ec8481a5d398b6e460e\n",
    "```\n",
    "\n",
    "en utilisant le dictionnaire [`dico.txt`](dico.txt)."
   ]
  },
  {
   "attachments": {},
   "cell_type": "markdown",
   "id": "8e6afda2",
   "metadata": {},
   "source": [
    "__Réponse__ :\n",
    "\n",
    "On obtient le mot \"programme\" en 0.067177 \n",
    "On as testé 35503 mots au totale"
   ]
  },
  {
   "cell_type": "markdown",
   "id": "e80c70fa",
   "metadata": {},
   "source": [
    "### 3. Attaque par force brute"
   ]
  },
  {
   "cell_type": "markdown",
   "id": "740c2ba3",
   "metadata": {},
   "source": [
    "Nous allons maintenant tester tous les mots de passe d'une taille donnée. Pour les mots de passe sur 3 lettres, cela pourrait donner:"
   ]
  },
  {
   "cell_type": "code",
   "execution_count": null,
   "id": "1fb4f37a",
   "metadata": {},
   "outputs": [],
   "source": [
    "import hashlib\n",
    "from datetime import datetime\n",
    "\n",
    "def attaque_brute_force_hash(h):\n",
    "    n = 0 # pour compter le nombre de mots\n",
    "    t0 = datetime.now() # l'heure à l'instant présent \n",
    "    alphabet = \"abcdefghijklmnopqrsLn1dtuvwxyz\"\n",
    "    \n",
    "    for a in alphabet: \n",
    "        for b in alphabet:\n",
    "            for c in alphabet: \n",
    "                mot = a+b+c \n",
    "                n=n+1\n",
    "                \n",
    "                if hashlib.sha256(mot.encode()).hexdigest() == h: \n",
    "                    print()\n",
    "                    print(\"TROUVÉ ! '{}' a le hash {},\".format(mot,h))\n",
    "                    print(\"{} mot(s) ont étés testés en {} seconde(s).\".format(n, (datetime.now()-t0).total_seconds())) \n",
    "                    return\n",
    "                \n",
    "                if n % 1000 == 0: \n",
    "                    print(\".\", end=\"\")\n",
    "                    \n",
    "    print()\n",
    "    print(\"{} mot(s) ont étés testés en {} seconde(s),\".format(n, (datetime.now()-t0).total_seconds())) \n",
    "    print(\"Aucun des mots testés n'avait le hash {}.\".format(h))"
   ]
  },
  {
   "cell_type": "markdown",
   "id": "6d99d528",
   "metadata": {},
   "source": [
    "__Question 3 :__\n",
    "    \n",
    "Utilisez ce programme pour retrouver le mot de passe de trois lettres caché derrière ce hash :\n",
    "```\n",
    "07123e1f482356c415f684407a3b8723e10b2cbbc0b8fcd6282c49d37c9c1abc\n",
    "```"
   ]
  },
  {
   "attachments": {},
   "cell_type": "markdown",
   "id": "6f5aa1e5",
   "metadata": {},
   "source": [
    "\n",
    "__Réponse__ :\n",
    "\n",
    " On obtient 'lol' avec 10332 mots en 0.025713 secondes\n",
    " "
   ]
  }
 ],
 "metadata": {
  "kernelspec": {
   "display_name": "Python 3.8.9 64-bit",
   "language": "python",
   "name": "python3"
  },
  "language_info": {
   "codemirror_mode": {
    "name": "ipython",
    "version": 3
   },
   "file_extension": ".py",
   "mimetype": "text/x-python",
   "name": "python",
   "nbconvert_exporter": "python",
   "pygments_lexer": "ipython3",
   "version": "3.8.10 (default, Nov 14 2022, 12:59:47) \n[GCC 9.4.0]"
  },
  "vscode": {
   "interpreter": {
    "hash": "31f2aee4e71d21fbe5cf8b01ff0e069b9275f58929596ceb00d14d90e3e16cd6"
   }
  }
 },
 "nbformat": 4,
 "nbformat_minor": 5
}
